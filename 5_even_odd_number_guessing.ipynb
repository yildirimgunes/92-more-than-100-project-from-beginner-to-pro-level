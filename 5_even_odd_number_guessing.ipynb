{
 "cells": [
  {
   "cell_type": "code",
   "execution_count": null,
   "metadata": {},
   "outputs": [],
   "source": [
    "#Guessing_even_odd_number"
   ]
  },
  {
   "cell_type": "code",
   "execution_count": null,
   "metadata": {},
   "outputs": [],
   "source": [
    "print(\"Welcome to guessing the number (is even or odd) program\")\n",
    "user_number=float(input(\"Write a number: \"))\n",
    "even_number=int(user_number%2)\n",
    "if even_number==0:\n",
    "    print(\"Your number is even number\")\n",
    "else:\n",
    "    print(\"Your number is odd number\")"
   ]
  }
 ],
 "metadata": {
  "language_info": {
   "name": "python"
  }
 },
 "nbformat": 4,
 "nbformat_minor": 2
}
