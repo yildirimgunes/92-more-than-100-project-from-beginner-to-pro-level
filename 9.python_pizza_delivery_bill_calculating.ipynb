{
 "cells": [
  {
   "cell_type": "code",
   "execution_count": 1,
   "metadata": {},
   "outputs": [],
   "source": [
    "#Pyhton_pizza_delivery_program_by_calculating_the_bill_automatically"
   ]
  },
  {
   "cell_type": "code",
   "execution_count": null,
   "metadata": {},
   "outputs": [
    {
     "name": "stdout",
     "output_type": "stream",
     "text": [
      "Welcome to Python Pizza Deliveries Program!\n"
     ]
    }
   ],
   "source": [
    "print(\"Welcome to Python Pizza Deliveries Program!\")\n",
    "\n",
    "pizza_size=input(\"What size pizza do you want? Type S, M, L :\")\n",
    "pizza_peperoni=input(\"Do you want pepperoni on pizza? Y / N :\")\n",
    "pizza_cheese=input(\"Do you want extra cheese? Y /; N :\")\n",
    "bill=0\n",
    "if pizza_size==\"S\":\n",
    "    bill+=15\n",
    "elif pizza_size==\"M\":\n",
    "    bill+=20\n",
    "elif:\n",
    "    bill+=25\n",
    "else:\n",
    "    print(\"You type wrong inputs!\")\n",
    "\n",
    "if pizza_peperoni==\"Y\":\n",
    "    if pizza_size==\"S\":\n",
    "        bill+=2\n",
    "    else:\n",
    "        bill+=3\n",
    "else:\n",
    "    bill+=0\n",
    "if pizza_cheese==\"Y\":\n",
    "    bill+=1\n",
    "else:\n",
    "    bill+=0\n",
    "print(f\"Your final bill : ${bill}\")\n",
    "print(\"Thanks for choosing us to eat pizza!s\")"
   ]
  }
 ],
 "metadata": {
  "kernelspec": {
   "display_name": "Python 3",
   "language": "python",
   "name": "python3"
  },
  "language_info": {
   "codemirror_mode": {
    "name": "ipython",
    "version": 3
   },
   "file_extension": ".py",
   "mimetype": "text/x-python",
   "name": "python",
   "nbconvert_exporter": "python",
   "pygments_lexer": "ipython3",
   "version": "3.9.6"
  }
 },
 "nbformat": 4,
 "nbformat_minor": 2
}
