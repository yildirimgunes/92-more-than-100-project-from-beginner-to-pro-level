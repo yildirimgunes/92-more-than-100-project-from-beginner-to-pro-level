{
 "cells": [
  {
   "cell_type": "code",
   "execution_count": null,
   "metadata": {},
   "outputs": [],
   "source": [
    "#Theme_Park_Hight_Control_Before_Riding"
   ]
  },
  {
   "cell_type": "code",
   "execution_count": 1,
   "metadata": {},
   "outputs": [
    {
     "name": "stdout",
     "output_type": "stream",
     "text": [
      "Welcome_to_Theme_Park_For_Rollercoaster_Riding\n"
     ]
    }
   ],
   "source": [
    "print(\"Welcome_to_Theme_Park_For_Rollercoaster_Riding\")"
   ]
  },
  {
   "cell_type": "code",
   "execution_count": null,
   "metadata": {},
   "outputs": [],
   "source": [
    "customer_boy=int(input(\"How tall are you, write your height in cm! : \"))\n",
    "if customer_boy>=120:\n",
    "    print(\"Yuuppiiii! You can ride rollarcoaster\")\n",
    "    customer_age = int(input(\"Write your age ! : \"))\n",
    "    if customer_age<=12:\n",
    "        print(\"You may pay 5 dollars with discount\")\n",
    "    elif customer_age<=18:\n",
    "        print(\"You may pay 7 dollars with discount\")    \n",
    "    else:\n",
    "        print(\"You should pay 12 dollars\")\n",
    "else:\n",
    "    print(\"You can't ride, please come after growing up\")"
   ]
  }
 ],
 "metadata": {
  "kernelspec": {
   "display_name": "Python 3",
   "language": "python",
   "name": "python3"
  },
  "language_info": {
   "codemirror_mode": {
    "name": "ipython",
    "version": 3
   },
   "file_extension": ".py",
   "mimetype": "text/x-python",
   "name": "python",
   "nbconvert_exporter": "python",
   "pygments_lexer": "ipython3",
   "version": "3.9.6"
  }
 },
 "nbformat": 4,
 "nbformat_minor": 2
}
