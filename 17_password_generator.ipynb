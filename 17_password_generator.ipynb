{
 "cells": [
  {
   "cell_type": "markdown",
   "metadata": {},
   "source": [
    "Password Generator_Option_1"
   ]
  },
  {
   "cell_type": "code",
   "execution_count": null,
   "metadata": {},
   "outputs": [],
   "source": [
    "import random\n",
    "\n",
    "print(\"Welcome Password Generator Program\")\n",
    "nr_letter=int(input(\"How many letters would you like in your password ? :\"))\n",
    "nr_symbol=int(input(\"How many symbols would you like in your password ? :\"))\n",
    "nr_number=int(input(\"How many numbers would you like in your password ? :\"))\n",
    "\n",
    "letter=[\"a\",\"b\",\"c\",\"d\",\"e\",\"f\",\"g\",\"h\",\"i\",\"j\",\"k\",\"l\",\"m\",\"n\",\"o\",\"p\",\"r\",\"s\",\"t\",\"u\",\"v\",\"y\",\"z\"]\n",
    "symbols=['+', '%', '/', ')','.','(']\n",
    "numbers=['0','1','2','3','4','5','6','7','8','9']\n",
    "\n",
    "password=\"\"\n",
    "for char in range (1, nr_letter+1):\n",
    "    password+=random.choice(letter)\n",
    "for symbol in range(1, nr_symbol+1):\n",
    "    password+=random.choice(symbols)\n",
    "for number in range(1, nr_number+1):\n",
    "    password+=(str(random.choice(numbers)))\n",
    "print(password)"
   ]
  },
  {
   "cell_type": "markdown",
   "metadata": {},
   "source": [
    "Password_Genarator_Option_2"
   ]
  },
  {
   "cell_type": "code",
   "execution_count": null,
   "metadata": {},
   "outputs": [],
   "source": [
    "password_list=[]\n",
    "for char in range (1, nr_letter+1):\n",
    "    password_list.append(random.choice(letter))\n",
    "for symbol in range(1, nr_symbol+1):\n",
    "    password_list.append(random.choice(symbols))\n",
    "for number in range(1, nr_number+1):\n",
    "    password_list.append(random.choice(numbers))\n",
    "    random.shuffle(password_list)\n",
    "print(password_list)\n",
    "\n",
    "password=\"\"\n",
    "for char in password_list:\n",
    "    password+=char\n",
    "print(f'Your password is : ' + password)"
   ]
  }
 ],
 "metadata": {
  "language_info": {
   "name": "python"
  }
 },
 "nbformat": 4,
 "nbformat_minor": 2
}
