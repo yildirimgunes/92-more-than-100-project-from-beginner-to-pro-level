{
 "cells": [
  {
   "cell_type": "code",
   "execution_count": null,
   "metadata": {},
   "outputs": [],
   "source": [
    "#Themepark_rollarcoaster_height_age_query_and_photo_query"
   ]
  },
  {
   "cell_type": "code",
   "execution_count": null,
   "metadata": {},
   "outputs": [],
   "source": [
    "print(\"Welcome to the rollercoaster\")\n",
    "customer_height=float(input(\"Hoc much tall are you? Write in as cm. :\"))\n",
    "if customer_height>=120:\n",
    "    print(\"We have good news for you, you are accepted to rollarcoaster!\")\n",
    "    customer_age=int(input(\"What is your age? :\"))\n",
    "    bill=0\n",
    "    if customer_age<=12:\n",
    "        bill+=5\n",
    "    elif customer_age<=18:\n",
    "        bill+=7\n",
    "    else:\n",
    "        bill+=12\n",
    "    customer_foto_answer=input(\"Would you like to buy a photo for additional 3 dollars? \"\n",
    "                               \"If yes type y, if no write n: \")\n",
    "    if customer_foto_answer==\"y\":\n",
    "        bill+=3\n",
    "        print(\"Your bill: \", bill)\n",
    "    else:\n",
    "        print(\"Your bill: \", bill)\n",
    "else:\n",
    "    print(\"You need to grow up, excuse me come later on!\")\n"
   ]
  }
 ],
 "metadata": {
  "language_info": {
   "name": "python"
  }
 },
 "nbformat": 4,
 "nbformat_minor": 2
}
