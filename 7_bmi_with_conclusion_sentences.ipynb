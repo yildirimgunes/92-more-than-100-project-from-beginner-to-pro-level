{
 "cells": [
  {
   "cell_type": "code",
   "execution_count": null,
   "metadata": {},
   "outputs": [],
   "source": [
    "#Body_Mass_Indicator_(BMI)_with_Conclusion_Sentences\n",
    "print(\"Welcome_BMI_to_Check_Your_Ideal_Weight_Controller_Calculater\")\n",
    "user_weight=float(input(\"Write your weight! : \"))\n",
    "user_height=float(input(\"Write your height as float like 1.73! : \"))\n",
    "BMI=user_weight/(user_height**2)\n",
    "BMI_rounded=round(BMI,2)\n",
    "if BMI_rounded<25:\n",
    "    print(\"Your BMI value=\", BMI_rounded)\n",
    "    print(\"We have good news for you about your weight\")\n",
    "    if BMI_rounded>18.5:\n",
    "        print(\"Your weight is normal, you need to keep your weight.\")\n",
    "    else:\n",
    "        print(\"You are is underweight. You need to get more weight! Of course not too much!\")\n",
    "else:\n",
    "    print(\"You are overweight, you need to loose weight\")"
   ]
  }
 ],
 "metadata": {
  "language_info": {
   "name": "python"
  }
 },
 "nbformat": 4,
 "nbformat_minor": 2
}
