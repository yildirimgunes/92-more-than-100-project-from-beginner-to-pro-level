{
 "cells": [
  {
   "cell_type": "code",
   "execution_count": 1,
   "metadata": {},
   "outputs": [],
   "source": [
    "#Themepark_rollarcoaster_riding_after_checking_the_height_age_middle_with_middle_age_group"
   ]
  },
  {
   "cell_type": "code",
   "execution_count": 2,
   "metadata": {},
   "outputs": [
    {
     "name": "stdout",
     "output_type": "stream",
     "text": [
      "Welcome to rollar coaster riding checking\n"
     ]
    }
   ],
   "source": [
    "print(\"Welcome to rollar coaster riding checking\")"
   ]
  },
  {
   "cell_type": "code",
   "execution_count": null,
   "metadata": {},
   "outputs": [],
   "source": [
    "customer_height=float(input(\"How tall are you?, type with cm. like 121 :\"))\n",
    "bill = 0\n",
    "if customer_height >= 120:\n",
    "    print(\"Yupppiiiiii! We have good news for you rollorcoaster riding, you can ride\")\n",
    "    customer_age = int(input(\"How many years old? please type :\"))\n",
    "    if customer_age <= 12:\n",
    "        bill += 5\n",
    "    elif customer_age > 12 and customer_age <= 18:\n",
    "        bill += 7\n",
    "    elif customer_age > 18 and not (customer_age >= 45 and customer_age <= 55):\n",
    "        bill += 12\n",
    "    else:\n",
    "        bill += 0\n",
    "    customer_want_photo = input(\"Do you want to take photo on the rollorcoaster? please type y if yes, otherwise n :\")\n",
    "    if customer_want_photo==\"y\":\n",
    "        bill +=3\n",
    "    else:\n",
    "        bill +=0\n",
    "    print(f\"Your bill totally is : {bill}\")\n",
    "else:\n",
    "    print(\"Oupps!Something went wrong! You need to grow up, come later on\")\n",
    "    "
   ]
  },
  {
   "cell_type": "markdown",
   "metadata": {},
   "source": []
  },
  {
   "cell_type": "markdown",
   "metadata": {},
   "source": []
  }
 ],
 "metadata": {
  "kernelspec": {
   "display_name": "Python 3",
   "language": "python",
   "name": "python3"
  },
  "language_info": {
   "codemirror_mode": {
    "name": "ipython",
    "version": 3
   },
   "file_extension": ".py",
   "mimetype": "text/x-python",
   "name": "python",
   "nbconvert_exporter": "python",
   "pygments_lexer": "ipython3",
   "version": "3.9.6"
  }
 },
 "nbformat": 4,
 "nbformat_minor": 2
}
